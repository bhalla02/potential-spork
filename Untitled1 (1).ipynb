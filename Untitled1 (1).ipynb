{
 "cells": [
  {
   "cell_type": "code",
   "execution_count": 4,
   "id": "32717276-1370-4913-b4fd-7d2431a3d0d7",
   "metadata": {},
   "outputs": [
    {
     "name": "stdout",
     "output_type": "stream",
     "text": [
      "95% Confidence Interval: (41.73273169082748, 58.26726830917252)\n"
     ]
    }
   ],
   "source": [
    "#Q1\n",
    "\n",
    "from scipy.stats import norm\n",
    "\n",
    "sample_mean = 50\n",
    "\n",
    "confidence_level = 0.95\n",
    "\n",
    "standard_deviation = 5\n",
    "\n",
    "z_score = norm.ppf((1 + confidence_level)/2)\n",
    "\n",
    "margin_of_error = z_score*(standard_deviation / (30 **0.05))\n",
    "confidence_interval = (sample_mean - margin_of_error, sample_mean + margin_of_error)\n",
    "\n",
    "print(\"95% Confidence Interval:\", confidence_interval)"
   ]
  },
  {
   "cell_type": "code",
   "execution_count": 5,
   "id": "fedebc5b-e779-4421-ad66-a1cc6360fc5f",
   "metadata": {},
   "outputs": [
    {
     "name": "stdout",
     "output_type": "stream",
     "text": [
      "Chi-square Statistic: 2.5\n",
      "P-value: 0.7764950711233227\n",
      "Fail to reject the null hypothesis: The distribution of colors in the bag matches the expected distribution.\n"
     ]
    }
   ],
   "source": [
    "#Q2\n",
    "\n",
    "from scipy.stats import chisquare\n",
    "\n",
    "# Observed frequencies of colors in the bag of M&Ms\n",
    "observed_frequencies = [15, 18, 22, 10, 12, 23]  # Replace with actual observed frequencies\n",
    "\n",
    "# Expected frequencies based on the expected distribution\n",
    "expected_frequencies = [0.2*100, 0.2*100, 0.2*100, 0.1*100, 0.1*100, 0.2*100]\n",
    "\n",
    "# Perform the chi-square goodness of fit test\n",
    "chi2_statistic, p_value = chisquare(observed_frequencies, f_exp=expected_frequencies)\n",
    "\n",
    "# Print the results\n",
    "print(\"Chi-square Statistic:\", chi2_statistic)\n",
    "print(\"P-value:\", p_value)\n",
    "\n",
    "# Check for significance at alpha = 0.05\n",
    "alpha = 0.05\n",
    "if p_value < alpha:\n",
    "    print(\"Reject the null hypothesis: The distribution of colors in the bag does not match the expected distribution.\")\n",
    "else:\n",
    "    print(\"Fail to reject the null hypothesis: The distribution of colors in the bag matches the expected distribution.\")\n"
   ]
  },
  {
   "cell_type": "code",
   "execution_count": 6,
   "id": "05ecfbca-05ad-454b-829e-905eeee3f3b9",
   "metadata": {},
   "outputs": [
    {
     "name": "stdout",
     "output_type": "stream",
     "text": [
      "Chi-square Statistic: 5.833333333333334\n",
      "P-value: 0.05411376622282158\n",
      "Degrees of Freedom: 2\n",
      "Expected Frequencies:\n",
      "[15. 20.]\n",
      "[15. 20.]\n",
      "[15. 20.]\n",
      "Fail to reject the null hypothesis: There is no significant association between the variables.\n"
     ]
    }
   ],
   "source": [
    "#Q3\n",
    "from scipy.stats import chi2_contingency\n",
    "\n",
    "# Define the contingency table\n",
    "observed_data = [[20, 15],\n",
    "                 [10, 25],\n",
    "                 [15, 20]]\n",
    "\n",
    "# Perform the chi-square test\n",
    "chi2_statistic, p_value, degrees_of_freedom, expected_data = chi2_contingency(observed_data)\n",
    "\n",
    "# Print the results\n",
    "print(\"Chi-square Statistic:\", chi2_statistic)\n",
    "print(\"P-value:\", p_value)\n",
    "print(\"Degrees of Freedom:\", degrees_of_freedom)\n",
    "print(\"Expected Frequencies:\")\n",
    "for row in expected_data:\n",
    "    print(row)\n",
    "    \n",
    "# Interpret the results\n",
    "alpha = 0.05\n",
    "if p_value < alpha:\n",
    "    print(\"Reject the null hypothesis: There is a significant association between the variables.\")\n",
    "else:\n",
    "    print(\"Fail to reject the null hypothesis: There is no significant association between the variables.\")\n"
   ]
  },
  {
   "cell_type": "code",
   "execution_count": 7,
   "id": "c549467b-5ad9-4736-95df-00e899efd22d",
   "metadata": {},
   "outputs": [
    {
     "name": "stdout",
     "output_type": "stream",
     "text": [
      "95% Confidence Interval for the true proportion of smokers in the population:\n",
      "Lower Bound: 0.09151638887130707\n",
      "Upper Bound: 0.1484836111286929\n"
     ]
    }
   ],
   "source": [
    "#Q4\n",
    "import numpy as np\n",
    "from scipy.stats import norm\n",
    "\n",
    "# Given data\n",
    "total_population = 500\n",
    "number_of_smokers = 60\n",
    "\n",
    "# Calculate sample proportion\n",
    "sample_proportion = number_of_smokers / total_population\n",
    "\n",
    "# Calculate the standard error\n",
    "standard_error = np.sqrt((sample_proportion * (1 - sample_proportion)) / total_population)\n",
    "\n",
    "# Calculate the margin of error (using z-score for 95% confidence level)\n",
    "z_score = norm.ppf(0.975)  # For two-tailed 95% confidence level\n",
    "margin_of_error = z_score * standard_error\n",
    "\n",
    "# Calculate the confidence interval\n",
    "lower_bound = sample_proportion - margin_of_error\n",
    "upper_bound = sample_proportion + margin_of_error\n",
    "\n",
    "print(\"95% Confidence Interval for the true proportion of smokers in the population:\")\n",
    "print(\"Lower Bound:\", lower_bound)\n",
    "print(\"Upper Bound:\", upper_bound)\n"
   ]
  },
  {
   "cell_type": "code",
   "execution_count": 9,
   "id": "7b41509c-2749-4ee8-a6de-188310812eb7",
   "metadata": {},
   "outputs": [
    {
     "name": "stdout",
     "output_type": "stream",
     "text": [
      "90% Confidence Interval: (71.6636279010632, 78.3363720989368)\n"
     ]
    }
   ],
   "source": [
    "#Q5\n",
    "from scipy.stats import norm\n",
    "\n",
    "# Sample mean\n",
    "sample_mean = 75\n",
    "\n",
    "# Standard deviation\n",
    "standard_deviation = 12\n",
    "\n",
    "# Sample size\n",
    "# If the sample size is sufficiently large (>30), we can use the normal distribution\n",
    "# If the sample size is small, we typically use t-distribution, but since the sample size is not provided, we'll assume it's large enough\n",
    "# If the sample size is unknown, you should specify it\n",
    "# sample_size = ?\n",
    "\n",
    "# Confidence level\n",
    "confidence_level = 0.90\n",
    "\n",
    "# Calculate the margin of error using the standard deviation and the z-score for the desired confidence level\n",
    "# For a 90% confidence level, the z-score is 1.645\n",
    "z_score = norm.ppf((1 + confidence_level) / 2)  # two-tailed\n",
    "margin_of_error = z_score * (standard_deviation / (35**0.5))\n",
    "# Calculate the confidence interval\n",
    "confidence_interval = (sample_mean - margin_of_error, sample_mean + margin_of_error)\n",
    "\n",
    "print(\"90% Confidence Interval:\", confidence_interval)\n"
   ]
  },
  {
   "cell_type": "code",
   "execution_count": 10,
   "id": "ea9f2a9f-0b28-461a-9621-e82f6c39f110",
   "metadata": {},
   "outputs": [
    {
     "data": {
      "image/png": "[encoded data removed]",
      "text/plain": [
       "<Figure size 640x480 with 1 Axes>"
      ]
     },
     "metadata": {},
     "output_type": "display_data"
    }
   ],
   "source": [
    "#Q6\n",
    "import numpy as np\n",
    "import matplotlib.pyplot as plt\n",
    "from scipy.stats import chi2\n",
    "\n",
    "# Define the degrees of freedom\n",
    "df = 10\n",
    "\n",
    "# Generate values for the chi-square distribution\n",
    "x = np.linspace(0, 30, 1000)  # Adjust the range based on your preference\n",
    "\n",
    "# Plot the chi-square distribution\n",
    "plt.plot(x, chi2.pdf(x, df), 'b-', label='Chi-square Distribution (df=10)')\n",
    "\n",
    "# Shade the area corresponding to a chi-square statistic of 15\n",
    "x_shade = np.linspace(0, 15, 1000)\n",
    "plt.fill_between(x_shade, chi2.pdf(x_shade, df), color='skyblue', alpha=0.5)\n",
    "\n",
    "# Add labels and title\n",
    "plt.title('Chi-square Distribution with 10 Degrees of Freedom')\n",
    "plt.xlabel('Chi-square Statistic')\n",
    "plt.ylabel('Probability Density Function')\n",
    "\n",
    "# Add a legend\n",
    "plt.legend()\n",
    "\n",
    "# Display the plot\n",
    "plt.grid(True)\n",
    "plt.show()\n"
   ]
  },
  {
   "cell_type": "code",
   "execution_count": 11,
   "id": "c72e2eac-6790-415f-865d-85920cb5cc6c",
   "metadata": {},
   "outputs": [
    {
     "name": "stdout",
     "output_type": "stream",
     "text": [
      "99% Confidence Interval for the true proportion of people who prefer Coke:\n",
      "Lower Bound: 0.4793051576779699\n",
      "Upper Bound: 0.5606948423220302\n"
     ]
    }
   ],
   "source": [
    "#Q7\n",
    "import numpy as np\n",
    "from scipy.stats import norm\n",
    "\n",
    "# Given data\n",
    "total_sample_size = 1000\n",
    "number_prefer_coke = 520\n",
    "\n",
    "# Calculate the sample proportion\n",
    "sample_proportion = number_prefer_coke / total_sample_size\n",
    "\n",
    "# Calculate the critical value (for a 99% confidence level)\n",
    "confidence_level = 0.99\n",
    "z_score = norm.ppf((1 + confidence_level) / 2)  # two-tailed test\n",
    "\n",
    "# Calculate the standard error\n",
    "standard_error = np.sqrt((sample_proportion * (1 - sample_proportion)) / total_sample_size)\n",
    "\n",
    "# Calculate the margin of error\n",
    "margin_of_error = z_score * standard_error\n",
    "\n",
    "# Calculate the confidence interval\n",
    "lower_bound = sample_proportion - margin_of_error\n",
    "upper_bound = sample_proportion + margin_of_error\n",
    "\n",
    "print(\"99% Confidence Interval for the true proportion of people who prefer Coke:\")\n",
    "print(\"Lower Bound:\", lower_bound)\n",
    "print(\"Upper Bound:\", upper_bound)\n"
   ]
  },
  {
   "cell_type": "code",
   "execution_count": 12,
   "id": "c7f2a574-546d-425c-b429-26d47443b5a5",
   "metadata": {},
   "outputs": [
    {
     "name": "stdout",
     "output_type": "stream",
     "text": [
      "Chi-square Statistic: 1.0\n",
      "P-value: 0.31731050786291115\n",
      "Fail to reject the null hypothesis: The observed frequencies match the expected frequencies of a fair coin.\n"
     ]
    }
   ],
   "source": [
    "#Q8\n",
    "from scipy.stats import chisquare\n",
    "\n",
    "# Given data\n",
    "observed_frequencies = [45, 55]  # Observed frequencies of tails and heads respectively\n",
    "\n",
    "# Expected frequencies for a fair coin\n",
    "expected_frequencies = [50, 50]  # Expected frequencies of tails and heads respectively\n",
    "\n",
    "# Perform the chi-square goodness of fit test\n",
    "chi2_statistic, p_value = chisquare(observed_frequencies, f_exp=expected_frequencies)\n",
    "\n",
    "# Significance level\n",
    "alpha = 0.05\n",
    "\n",
    "# Print the results\n",
    "print(\"Chi-square Statistic:\", chi2_statistic)\n",
    "print(\"P-value:\", p_value)\n",
    "\n",
    "# Interpret the results\n",
    "if p_value < alpha:\n",
    "    print(\"Reject the null hypothesis: The observed frequencies do not match the expected frequencies of a fair coin.\")\n",
    "else:\n",
    "    print(\"Fail to reject the null hypothesis: The observed frequencies match the expected frequencies of a fair coin.\")\n"
   ]
  },
  {
   "cell_type": "code",
   "execution_count": 13,
   "id": "2f1652ad-4e7d-49f2-be95-9422e8ba3bef",
   "metadata": {},
   "outputs": [
    {
     "name": "stdout",
     "output_type": "stream",
     "text": [
      "Chi-square Statistic: 2.8252406554019474\n",
      "P-value: 0.09279298250494766\n",
      "Degrees of Freedom: 1\n",
      "Expected Frequencies:\n",
      "[ 33.15789474 146.84210526]\n",
      "[ 36.84210526 163.15789474]\n",
      "Fail to reject the null hypothesis: There is no significant association between smoking status and lung cancer diagnosis.\n"
     ]
    }
   ],
   "source": [
    "#Q9\n",
    "\n",
    "from scipy.stats import chi2_contingency\n",
    "\n",
    "# Given contingency table (smoking status vs. lung cancer diagnosis)\n",
    "contingency_table = [[40, 140],   # Smoker: No lung cancer, Lung cancer\n",
    "                     [30, 170]]  # Non-smoker: No lung cancer, Lung cancer\n",
    "\n",
    "# Perform the chi-square test for independence\n",
    "chi2_statistic, p_value, degrees_of_freedom, expected_values = chi2_contingency(contingency_table)\n",
    "\n",
    "# Significance level\n",
    "alpha = 0.05\n",
    "\n",
    "# Print the results\n",
    "print(\"Chi-square Statistic:\", chi2_statistic)\n",
    "print(\"P-value:\", p_value)\n",
    "print(\"Degrees of Freedom:\", degrees_of_freedom)\n",
    "print(\"Expected Frequencies:\")\n",
    "for row in expected_values:\n",
    "    print(row)\n",
    "\n",
    "# Interpret the results\n",
    "if p_value < alpha:\n",
    "    print(\"Reject the null hypothesis: There is a significant association between smoking status and lung cancer diagnosis.\")\n",
    "else:\n",
    "    print(\"Fail to reject the null hypothesis: There is no significant association between smoking status and lung cancer diagnosis.\")\n"
   ]
  },
  {
   "cell_type": "code",
   "execution_count": null,
   "id": "dd113621-21d3-44da-8fcb-308642e179c8",
   "metadata": {},
   "outputs": [],
   "source": []
  }
 ],
 "metadata": {
  "kernelspec": {
   "display_name": "Python 3 (ipykernel)",
   "language": "python",
   "name": "python3"
  },
  "language_info": {
   "codemirror_mode": {
    "name": "ipython",
    "version": 3
   },
   "file_extension": ".py",
   "mimetype": "text/x-python",
   "name": "python",
   "nbconvert_exporter": "python",
   "pygments_lexer": "ipython3",
   "version": "3.10.8"
  }
 },
 "nbformat": 4,
 "nbformat_minor": 5
}
